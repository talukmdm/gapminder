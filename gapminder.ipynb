{
 "cells": [
  {
   "cell_type": "code",
   "execution_count": null,
   "metadata": {},
   "outputs": [],
   "source": [
    "library(tidyverse)\n",
    "library(dslabs)"
   ]
  },
  {
   "cell_type": "code",
   "execution_count": null,
   "metadata": {},
   "outputs": [],
   "source": [
    "data(gapminder)"
   ]
  },
  {
   "cell_type": "code",
   "execution_count": null,
   "metadata": {
    "scrolled": true
   },
   "outputs": [],
   "source": [
    "gapminder %>% as_tibble()"
   ]
  },
  {
   "cell_type": "code",
   "execution_count": null,
   "metadata": {},
   "outputs": [],
   "source": [
    "gapminder %>% filter (year==2015 & country %in% c(\"Sri Lanka\",\"Turkey\",\"Poland\",\"South Korea\",\"Malaysia\",\"Russia\",\"Pakistan\",\"Vitnam\",\"Thailand\",\"South Africa\")) %>% \n",
    "                      select(country,infant_mortality) %>% arrange(desc(infant_mortality))"
   ]
  },
  {
   "cell_type": "code",
   "execution_count": null,
   "metadata": {
    "scrolled": true
   },
   "outputs": [],
   "source": [
    "#scatter plot\n",
    "p<- gapminder %>%filter(year==1962) %>% ggplot(aes(fertility,life_expectancy))+geom_point()\n",
    "print(p)"
   ]
  },
  {
   "cell_type": "code",
   "execution_count": null,
   "metadata": {
    "scrolled": true
   },
   "outputs": [],
   "source": [
    "p<-p+geom_point(aes(color=continent))\n",
    "print(p)"
   ]
  },
  {
   "cell_type": "code",
   "execution_count": null,
   "metadata": {
    "scrolled": true
   },
   "outputs": [],
   "source": [
    "#with 2012 data\n",
    "p1<-gapminder %>% filter(year==2012) %>% ggplot(aes(fertility,life_expectancy,color=continent))+geom_point()\n",
    "print(p1)\n"
   ]
  },
  {
   "cell_type": "code",
   "execution_count": null,
   "metadata": {
    "scrolled": true
   },
   "outputs": [],
   "source": [
    "#Facetting\n",
    "p<- gapminder %>%filter(year %in% c(1962,2012)) %>% \n",
    "ggplot(aes(fertility,life_expectancy,col=continent))+\n",
    "geom_point()+\n",
    "facet_grid(continent~year)\n",
    "print(p)\n"
   ]
  },
  {
   "cell_type": "code",
   "execution_count": null,
   "metadata": {
    "scrolled": true
   },
   "outputs": [],
   "source": [
    "#facet Wrap\n",
    "years<-c(1962,1980,1990,2000,2012)\n",
    "continents<-c(\"Europe\",\"Asia\",\"Americas\")\n",
    "p<-gapminder %>% filter(year %in% years & continent %in% continents)%>% \n",
    "ggplot(aes(fertility,life_expectancy,color=continent))\n",
    "p<-p+geom_point()+\n",
    "facet_wrap(.~year,scales=\"free\")\n",
    "print(p)"
   ]
  },
  {
   "cell_type": "code",
   "execution_count": null,
   "metadata": {
    "scrolled": true
   },
   "outputs": [],
   "source": [
    "#time series plot\n",
    "p2<- gapminder %>% filter(country==\"United States\")%>%\n",
    "ggplot(aes(year,fertility))+\n",
    "geom_line()\n",
    "print(p2)"
   ]
  },
  {
   "cell_type": "code",
   "execution_count": null,
   "metadata": {
    "scrolled": true
   },
   "outputs": [],
   "source": [
    "countries<-c(\"South Korea\",\"Germany\")\n",
    "p2<-gapminder %>% filter(country %in% countries) %>% \n",
    "ggplot(aes(year,fertility,color=country))+\n",
    "geom_line()\n",
    "print(p2)"
   ]
  },
  {
   "cell_type": "code",
   "execution_count": null,
   "metadata": {
    "scrolled": true
   },
   "outputs": [],
   "source": [
    "labels<-data.frame(country=countries,x=c(1967,1974),y=c(6,2.5))\n",
    "p4<-p2+geom_text(data=labels,aes(x,y,label=country),size=4)+\n",
    "theme(legend.position = \"none\")\n",
    "print(p4)"
   ]
  },
  {
   "cell_type": "code",
   "execution_count": null,
   "metadata": {
    "scrolled": true
   },
   "outputs": [],
   "source": [
    "labels2<-data.frame(country=countries,x=c(1965,1976),y=c(62,71))\n",
    "p3<-gapminder %>%filter(country %in% countries) %>% \n",
    "ggplot(aes(year,life_expectancy,col=country))+\n",
    "geom_line()+\n",
    "geom_text(data=labels2,aes(x,y,label=country),size=4)+\n",
    "theme(legend.position = \"none\")\n",
    "print(p3)"
   ]
  },
  {
   "cell_type": "code",
   "execution_count": null,
   "metadata": {},
   "outputs": [],
   "source": [
    "#data transformation\n",
    "gapminder <-gapminder %>% mutate(dollars_per_day=gdp/population/365)"
   ]
  },
  {
   "cell_type": "code",
   "execution_count": null,
   "metadata": {
    "scrolled": false
   },
   "outputs": [],
   "source": [
    "past_year<-1970\n",
    "gapminder %>% filter(year==past_year & !is.na(gdp)) %>%\n",
    "ggplot(aes(log2(dollars_per_day)))+\n",
    "geom_histogram(binwidth=0.2,color=\"blue\")"
   ]
  },
  {
   "cell_type": "code",
   "execution_count": null,
   "metadata": {
    "scrolled": false
   },
   "outputs": [],
   "source": [
    "gapminder %>% filter(year==past_year) %>%\n",
    "ggplot(aes(log10(population)))+\n",
    "geom_histogram(binwidth=0.3,color=\"black\")"
   ]
  },
  {
   "cell_type": "code",
   "execution_count": null,
   "metadata": {},
   "outputs": [],
   "source": [
    "filter(gapminder,year==past_year) %>%\n",
    "summarise(min=min(population),max=max(population))"
   ]
  },
  {
   "cell_type": "code",
   "execution_count": null,
   "metadata": {
    "scrolled": true
   },
   "outputs": [],
   "source": [
    "#Comparing multiple distributions with boxplots and ridge plots\n",
    "gapminder %>%\n",
    "   filter(year==past_year & !is.na(gdp)) %>%\n",
    "   mutate(region=reorder(region,dollars_per_day,FUN=median)) %>%\n",
    "   ggplot(aes(dollars_per_day,region))+\n",
    "   geom_point()+\n",
    "   scale_x_continuous(trans=\"log2\")"
   ]
  },
  {
   "cell_type": "code",
   "execution_count": null,
   "metadata": {},
   "outputs": [],
   "source": [
    "gapminder<-gapminder %>% mutate(group=case_when(\n",
    "                            region %in% c(\"Western Europe\",\"Northern Europe\",\"Southern Europe\",\"Northern America\",\"Australia and New zeland\")~\"West\",\n",
    "                            region %in% c(\"Eastern Asia\",\"South-Eastern Asia\")~\"East Asia\",\n",
    "                            region %in% c(\"Caribbean\",\"Central America\",\"South America\")~\"Latin America\",\n",
    "                            continent==\"Africa\" & region !=\"Northern Africa\"~\"Sub-Saharan\",\n",
    "                            TRUE~\"others\"))\n",
    "\n",
    "gapminder<-gapminder %>%mutate(group=factor(group,levels=c(\"others\",\"Latin America\",\"East Asia\",\"Sub-Saharan\",\"West\")))"
   ]
  },
  {
   "cell_type": "code",
   "execution_count": null,
   "metadata": {},
   "outputs": [],
   "source": [
    "p5<-gapminder %>% filter(year==past_year & !is.na(gdp)) %>% \n",
    "                  ggplot(aes(group,dollars_per_day,fill=group))+\n",
    "                  geom_boxplot()+\n",
    "                  scale_y_continuous(trans=\"log2\")+\n",
    "                  xlab(\"Country Zone\")+\n",
    "                  theme(axis.text.x=element_text(angle=90,hjust=1))\n",
    "print(p5)"
   ]
  },
  {
   "cell_type": "code",
   "execution_count": null,
   "metadata": {},
   "outputs": [],
   "source": [
    "p5 +geom_point(alpha=0.5)"
   ]
  },
  {
   "cell_type": "code",
   "execution_count": null,
   "metadata": {},
   "outputs": [],
   "source": [
    "library(ggridges)\n",
    "p6<-gapminder %>% \n",
    "     filter(year==past_year & !is.na(dollars_per_day)) %>% \n",
    "     ggplot(aes(dollars_per_day,group))+\n",
    "     scale_x_continuous(trans=\"log2\")\n",
    "p6+geom_density_ridges(aes(fill=group))"
   ]
  }
 ],
 "metadata": {
  "kernelspec": {
   "display_name": "R",
   "language": "R",
   "name": "ir"
  },
  "language_info": {
   "codemirror_mode": "r",
   "file_extension": ".r",
   "mimetype": "text/x-r-source",
   "name": "R",
   "pygments_lexer": "r",
   "version": "3.6.1"
  }
 },
 "nbformat": 4,
 "nbformat_minor": 2
}
